{
 "cells": [
  {
   "cell_type": "raw",
   "metadata": {},
   "source": [
    "1.1 Write a Python Program to implement your own myreduce() function which works exactly\n",
    "like Python's built-in function reduce()"
   ]
  },
  {
   "cell_type": "code",
   "execution_count": 4,
   "metadata": {},
   "outputs": [
    {
     "name": "stdout",
     "output_type": "stream",
     "text": [
      "Sum on list [1,2,3,4,5,6] using custom reduce function 21\n"
     ]
    }
   ],
   "source": [
    "def myreduce(fun,seq):\n",
    "    result = seq[0]\n",
    "    for i in seq[1:]:\n",
    "        result = fun(result,i)\n",
    "    return result\n",
    "\n",
    "def sum(a,b):\n",
    "    return a+b\n",
    "\n",
    "print (\"Sum on list [1,2,3,4,5,6] using custom reduce function \"   + str(myreduce(sum, [1,2,3,4,5,6])) )"
   ]
  },
  {
   "cell_type": "code",
   "execution_count": null,
   "metadata": {},
   "outputs": [],
   "source": []
  }
 ],
 "metadata": {
  "kernelspec": {
   "display_name": "Python 3",
   "language": "python",
   "name": "python3"
  },
  "language_info": {
   "codemirror_mode": {
    "name": "ipython",
    "version": 3
   },
   "file_extension": ".py",
   "mimetype": "text/x-python",
   "name": "python",
   "nbconvert_exporter": "python",
   "pygments_lexer": "ipython3",
   "version": "3.8.5"
  }
 },
 "nbformat": 4,
 "nbformat_minor": 4
}
